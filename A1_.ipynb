{
  "nbformat": 4,
  "nbformat_minor": 0,
  "metadata": {
    "colab": {
      "name": "A1 .ipynb",
      "version": "0.3.2",
      "provenance": [],
      "collapsed_sections": [],
      "include_colab_link": true
    },
    "kernelspec": {
      "name": "python3",
      "display_name": "Python 3"
    }
  },
  "cells": [
    {
      "cell_type": "markdown",
      "metadata": {
        "id": "view-in-github",
        "colab_type": "text"
      },
      "source": [
        "<a href=\"https://colab.research.google.com/github/12552206/UTS_ML2019_ID12552206/blob/master/A1_.ipynb\" target=\"_parent\"><img src=\"https://colab.research.google.com/assets/colab-badge.svg\" alt=\"Open In Colab\"/></a>"
      ]
    },
    {
      "cell_type": "code",
      "metadata": {
        "id": "Pb6EUkLIfIBN",
        "colab_type": "code",
        "colab": {}
      },
      "source": [
        ""
      ],
      "execution_count": 0,
      "outputs": []
    },
    {
      "cell_type": "markdown",
      "metadata": {
        "id": "b8IeINoYimfJ",
        "colab_type": "text"
      },
      "source": [
        "\n",
        "Assignment 1: Understanding the Literature\n",
        "\n",
        "31005+32513 Machine Learning Spring 2019\n",
        "\n",
        "12552206 Gloria Duong \n"
      ]
    },
    {
      "cell_type": "markdown",
      "metadata": {
        "id": "5_EhVW7eiUzY",
        "colab_type": "text"
      },
      "source": [
        "Introduction\n",
        "\n",
        "This report is a critical review on “Eigenfaces vs. Fisherfaces: Recognition  Using Class Specific Linear Projection” by Peter N. Belhumeur, Joao P. Hespanha and David J. Kriegman (1997) which explores different facial recognition algorithms such as Correlation, Eigenfaces and Linear Subspaces to develop a new algorithm, Fisherfaces which can overcome variations in illumination and facial expressions in facial recognition. It evaluates the “novelty” of the fishersface algorithm, the quality of the experiments backing the claims as well as whether this technique is suitable to be used in a facial recognition context. \n"
      ]
    },
    {
      "cell_type": "markdown",
      "metadata": {
        "id": "g_MQHKTwiUAm",
        "colab_type": "text"
      },
      "source": [
        "Content \n",
        "\n",
        "Firstly, the authors explore the correlation technique, a simple classification algorithm that uses the nearest neighbour classifier to match images in the learning set to their corresponding images in the test set based on their measured distances in the images space. In this technique, each image in normalised to have zero mean and unit variance so the results are highly impacted by the lighting conditions. Therefore, in order to attain accurate results, the learning set must contain numerous images of each person under a range of different lighting conditions. This not only requires large amounts of storage; it is also computationally expensive as we must correlate the images of the test face with each image in the learning set. \n",
        "\n",
        "To reduce the storage and computation requirements, the authors then investigated Eigenfaces which uses Principle Components Analysis (PCA) to reduce dimensionality and maximize the scatter between classes. However, a major drawback of this technique is that the scatter within classes is also maximized, thus decreasing accuracy. Since, the cause of the within-class scattering is a result of the variation in lighting, the authors experimented by removing the 3 most significant principle components in attempt to remove the component that captures the variation due to lighting and in turn increase accuracy. However, it is highly unlikely that these components are solely responsible for the variation in lighting. Consequently, removing these components not only does not solved the issue of variation due to light it would remove other information that may be useful for discrimination. \n",
        " \n",
        "As both existing techniques failed to take the lighting variations into consideration, the authors developed alternative methods which will be expanded upon in the next section. \n"
      ]
    },
    {
      "cell_type": "markdown",
      "metadata": {
        "id": "4K1oErR0h8BV",
        "colab_type": "text"
      },
      "source": [
        "Innovation\n",
        "\n",
        "This paper is quite innovative, it approaches the facial recognition problem from a different perspective and develops a new algorithm. It recognises the face as a Lambertian surface with self-shadowing which can lead to the same face looking drastically different under different lighting. Considering these observations, the author adapts alternative methods for facial recognition. \n",
        "The Linear Subspace Algorithm, recognises that, without shadowing the images of a face lie in a 3D linear subspace. Based on this observation, the authors can construct the 3D basis of a face for the linear subspace under any lighting conditions using the linear combination of three images of the face taken from the same perspective under three known, linearly independent light sources. Next, we compute the distance between the new image to each linear subspace in order to find the face with the shortest distance for facial recognition. In theory, this method should be able to accurately recognise faces under any lighting conditions given that there is no noise or shadowing, however this is not realistic. In practice, shadowing and noise do exist and gives variability to the face which decreases accuracy. Although, this can be combated through increasing the learning set, the number of images required would cause the model to be too computationally expensive.\n",
        "Nonetheless, the potential in using linear methods became apparent and was used to perform dimensionality reduction while retaining linear separability in the Fishersface algorithm, a new method developed by the authors which aims to maximise the ratio of the between-class scatter and within-class scatter. \n",
        "This method was derived from the Fishers Linear Discriminant (FLD), a class specific method. The authors hypothesised that a class specific linear method would give better recognition rates and compared PCA and FLD for a two-class problem. Results proved that FLD was able to achieve greater between class scatter and while PCA gave larger total scatter, the classes smeared together and was no longer linearly separable. This method also, avoids the complications associated with having a singular within class scatter matrix by projecting the image set to a lower dimension space to achieve a non-singular within class matrix.\n",
        "\n",
        " \n"
      ]
    },
    {
      "cell_type": "markdown",
      "metadata": {
        "id": "Cu9buqLejIKc",
        "colab_type": "text"
      },
      "source": [
        "Technical quality \n",
        "\n",
        "Two experiments were performed for all four algorithms using two different databases: Harvard Robotics Library database and a database constructed at Yale for the purpose of this paper. \n",
        "\n",
        "The first experiment uses a database from the Harvard Robotics library. The choice of dataset was appropriate for the hypothesis being tested as it contained images of 5 subjects with their “heads held steady while being illuminated” at different angles. The subsets could be easily separated into subsets based on the angle of lighting, however the number of cases in each subset was not consistent which can skew the results. While there are 5 subjects, there has been no mention of how many times the experiment was run so reliability can be challenged. Quality can be improved by repeating the experiments and adjusting the number of images in the training set. \n",
        "\n",
        "The second experiment used a database constructed for the purpose of this experiment which contained ten images per subject for sixteen subjects. Despite there being an increased in variation., the number of images per subject were lower which can impact accuracy. Again, there has been no recorded repeats of the experiment. \n",
        "\n",
        "Overall the technical quality of the experiments is quite poor and lack detail. \n",
        "\n",
        "\n"
      ]
    },
    {
      "cell_type": "markdown",
      "metadata": {
        "id": "NG6-EBX7jKzr",
        "colab_type": "text"
      },
      "source": [
        "Application and X-factor\n",
        "\n",
        "As a research paper on facial recognition written in 1997, it is extremely innovative and approaches facial recognition from a different perspective. Despite the lacking technical quality of the experiments, the results showed a clear distinction between the error rates in the fishersface method compared to the other techniques. Its potential has since been validated as it is one of the popular algorithms used in facial recognition today.\n",
        "\n",
        "I think the class would benefit from this paper, not only because of the algorithm itself but rather the process the authors took to develop the algorithm. The paper starts by approaching the issue with an observation that the authors recognised that was being overlooked, forms a hypothesis around it, then creates an experiment. \n",
        "\n",
        "As mentioned previously, this work would benefit by limiting the scope to just lighting variation and focus more on depth. Further experimentation should also be conducted on a bigger dataset with more subjects. \n",
        "\n",
        "Although the algorithm itself is innovative, it is still in its early developmental stages and has a long way to go before it can be applied in the real world. The successes seen in this report are based on a very controlled testing environment with few subjects and consistent styles. In the real world there are many external factors which can have an impact on the accuracy of the techniques. An example of this can be found in “PCA versus LDA” (Martinez & Kak, 2001), which shows an example of how PCA can outperform Fishersface method when the number of number of images are limited or when the training data is not evenly distributed. \n",
        "\n",
        " \n"
      ]
    },
    {
      "cell_type": "markdown",
      "metadata": {
        "id": "3m5wWVe9jMlj",
        "colab_type": "text"
      },
      "source": [
        "Presentation\n",
        "\n",
        "Overall the presentation of paper was well organised and easy to follow. The in-text citing made it easy to find more information on each algorithm without making the paper too long. Additionally, the use of headings was appropriate, and the choice of figures were relevant and not excessive. Also, the tables and dot points summarising the results were clear and showed distinct findings.  \n",
        "Content wise, the paper would have benefitted by limiting the scope to focus just on lighting variation and presented the variation in facial expressions in a separate research. The paper seemed highly focuses on light variation and the parts to do with facial expression and eyewear lacked depth. \n",
        " \n",
        "References \n"
      ]
    },
    {
      "cell_type": "markdown",
      "metadata": {
        "id": "v6CGL_18jOFA",
        "colab_type": "text"
      },
      "source": [
        "References \n",
        "\n",
        "A. M. Martinez and A. C. Kak, \"PCA versus LDA,\" in IEEE Transactions on Pattern Analysis and Machine Intelligence, vol. 23, no. 2, pp. 228-233, Feb. 2001.\n",
        "Anggo, Mustamin & Arapu, La. (2018). Face Recognition Using Fisherface Method. Journal of Physics: Conference Series. 1028. 012119. 10.1088/1742-6596/1028/1/012119.\n",
        "P. N. Belhumeur, J. P. Hespanha and D. J. Kriegman, \"Eigenfaces vs. Fisherfaces: recognition using class specific linear projection,\" in IEEE Transactions on Pattern Analysis and Machine Intelligence, vol. 19, no. 7, pp. 711-720, July 1997.\n",
        "R.A. Fisher, “The Use of Multiple Measures in Taxonomic Problems,” Ann. Eugenics, vol. 7, pp. 179-188, 1936.\n",
        "\n"
      ]
    }
  ]
}